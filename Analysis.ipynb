{
 "cells": [
  {
   "cell_type": "code",
   "execution_count": null,
   "metadata": {},
   "outputs": [],
   "source": [
    "import pandas as pd\n",
    "import numpy as np\n",
    "import csv "
   ]
  },
  {
   "cell_type": "code",
   "execution_count": null,
   "metadata": {},
   "outputs": [],
   "source": [
    "PATH = \"./disgenet/\"\n",
    "filename = \"./disgenet/curated_gene_disease_associations.tsv\""
   ]
  },
  {
   "cell_type": "code",
   "execution_count": null,
   "metadata": {},
   "outputs": [],
   "source": [
    "df = pd.read_csv(filename, sep = '\\t')\n",
    "df.head()"
   ]
  },
  {
   "cell_type": "code",
   "execution_count": null,
   "metadata": {},
   "outputs": [],
   "source": [
    "print(len(df), df.columns)"
   ]
  },
  {
   "cell_type": "markdown",
   "metadata": {},
   "source": [
    "#find row associated to disease Malignant Mesothelioma with id C0345967\n",
    "\n",
    "The columns in the files are:\n",
    "* geneId \t\t-> NCBI Entrez Gene Identifier\n",
    "* geneSymbol\t-> Official Gene Symbol\n",
    "* DSI\t\t-> The Disease Specificity Index for the gene\n",
    "* DPI\t\t-> The Disease Pleiotropy Index for the gene\n",
    "* diseaseId \t-> UMLS concept unique identifier\n",
    "* diseaseName \t-> Name of the disease\t\n",
    "* diseaseType  \t-> The DisGeNET disease type: disease, phenotype and group\n",
    "* diseaseClass\t-> The MeSH disease class(es)\n",
    "* diseaseSemanticType\t-> The UMLS Semantic Type(s) of the disease\n",
    "* score\t\t-> DisGENET score for the Gene-Disease association\n",
    "* EI\t\t-> The Evidence Index for the Gene-Disease association\n",
    "* YearInitial\t-> First time that the Gene-Disease association was reported\n",
    "* YearFinal\t-> Last time that the Gene-Disease association was reported\n",
    "* NofPmids\t-> Total number of publications reporting the Gene-Disease association\n",
    "* NofSnps\t\t-> Total number of SNPs associated to the Gene-Disease association\n",
    "* source\t\t-> Original source reporting the Gene-Disease association"
   ]
  },
  {
   "cell_type": "code",
   "execution_count": null,
   "metadata": {},
   "outputs": [],
   "source": [
    "target = df.loc[df['diseaseName'] == 'Malignant mesothelioma']\n",
    "target.to_csv(PATH+\"malignant_mesothelioma_curated_genes.tsv\", sep = '\\t')"
   ]
  },
  {
   "cell_type": "code",
   "execution_count": null,
   "metadata": {},
   "outputs": [],
   "source": [
    "t = pd.read_csv(PATH+\"malignant_mesothelioma_curated_genes.tsv\", sep = '\\t')"
   ]
  },
  {
   "cell_type": "code",
   "execution_count": null,
   "metadata": {},
   "outputs": [],
   "source": [
    "t = t.drop('Unnamed: 0', axis = 1)\n",
    "t.head()"
   ]
  },
  {
   "cell_type": "markdown",
   "metadata": {},
   "source": [
    "### Explore the DisGeNet dataset, find the disease of interest and get the list of human genes involved."
   ]
  },
  {
   "cell_type": "code",
   "execution_count": null,
   "metadata": {},
   "outputs": [],
   "source": [
    "curated = pd.read_csv(\"./disgenet/browser_source_genes_summary_CURATED.tsv\", sep = '\\t')\n",
    "curated.head()            "
   ]
  },
  {
   "cell_type": "code",
   "execution_count": null,
   "metadata": {},
   "outputs": [],
   "source": [
    "#now let's save the gene symbols, entrez ID and names in arrays\n",
    "geneSymbol=[]\n",
    "geneID=[]\n",
    "geneName=[]\n",
    "for i in range(len(curated)):\n",
    "    geneSymbol.append(curated['Gene'][i])\n",
    "    geneID.append(curated['Gene_id'][i])\n",
    "    geneName.append(curated['Gene_Full_Name'][i])    \n",
    "#we check on HGNC to see if we need to change genes name"
   ]
  },
  {
   "cell_type": "markdown",
   "metadata": {},
   "source": [
    "b) For all genes in the seed gene list, collect the following basic information from the Uniprot:\n",
    "\n",
    "* official (primary) gene symbol (check if the symbols are updated and approved on the HGNC website; report any issue/lack of data/potential misinterpretation)\n",
    "\n",
    "* Uniprot AC, alphanumeric ‘accession number’ (a.k.a. ’Uniprot entry’)\n",
    "\n",
    "* protein name (the main one only, do not report the aliases)\n",
    "\n",
    "* Entrez Gene ID (a.k.a. ‘GeneID’) very brief description of its function (keep it very short, i.e. max 20 words)\n",
    "\n",
    "* notes related to the above information, if any and if relevant\n",
    "\n",
    "Store the data gathered in a table in an easily accessible format of your choice (csv, tab,\n",
    "excel, etc)."
   ]
  },
  {
   "cell_type": "code",
   "execution_count": null,
   "metadata": {},
   "outputs": [],
   "source": [
    "print(geneSymbol)"
   ]
  },
  {
   "cell_type": "code",
   "execution_count": null,
   "metadata": {},
   "outputs": [],
   "source": [
    "#fino a COL12A1 approved"
   ]
  },
  {
   "cell_type": "code",
   "execution_count": null,
   "metadata": {},
   "outputs": [],
   "source": [
    "# printing original list  \n",
    "print(\"The original list is : \" + str(geneSymbol))\n",
    "  \n",
    "# using join() \n",
    "# avoiding printing last comma \n",
    "print(\"The formatted output is : \") \n",
    "print(', '.join(geneSymbol)) \n",
    "\n",
    "# deleted quotes to pass the list into site\n",
    "#https://www.genenames.org/tools/multi-symbol-checker/"
   ]
  },
  {
   "cell_type": "markdown",
   "metadata": {},
   "source": [
    "# all gene symbols were approved by HGNC "
   ]
  },
  {
   "cell_type": "code",
   "execution_count": null,
   "metadata": {},
   "outputs": [],
   "source": [
    "uniprotAC=[]\n",
    "for i in range(len(curated)):\n",
    "    uniprotAC.append(curated['UniProt'][i])"
   ]
  },
  {
   "cell_type": "code",
   "execution_count": null,
   "metadata": {},
   "outputs": [],
   "source": [
    "results = pd.DataFrame(list(zip(geneSymbol,geneName,geneID,uniprotAC)), columns=['Symbol','Name','ID','UniprotAC'])"
   ]
  },
  {
   "cell_type": "code",
   "execution_count": null,
   "metadata": {},
   "outputs": [],
   "source": [
    "results.to_csv('mesothelioma-curated-genes.csv')\n",
    "results.head()"
   ]
  },
  {
   "cell_type": "markdown",
   "metadata": {},
   "source": [
    "### Exercise 1.2\n",
    "\n",
    "For each seed gene, collect all binary protein interactions from two different PPI sources:\n",
    "* Biogrid Human, latest release available\n",
    "* IID Integrated Interactions Database (experimental data only, all tissues, unless stated otherwise in further instruction)\n",
    "\n",
    "Note: once you got the list of the proteins interacting with at least one seed gene, you must\n",
    "also retrieve and include in your interactome the interactions among these non-seed\n",
    "proteins"
   ]
  },
  {
   "cell_type": "code",
   "execution_count": null,
   "metadata": {},
   "outputs": [],
   "source": [
    "#open biogrid DB\n",
    "biogrid=pd.read_csv('BIOGRID-ALL-3.5.179.tab2.txt', sep='\\t')"
   ]
  },
  {
   "cell_type": "code",
   "execution_count": null,
   "metadata": {},
   "outputs": [],
   "source": [
    "biogrid.head()"
   ]
  },
  {
   "cell_type": "code",
   "execution_count": null,
   "metadata": {},
   "outputs": [],
   "source": [
    "len(biogrid)"
   ]
  },
  {
   "cell_type": "code",
   "execution_count": null,
   "metadata": {},
   "outputs": [],
   "source": [
    "#let's select what we want from the biogrid dataset.\n",
    "#select only human PPI\n",
    "biogrid.columns"
   ]
  },
  {
   "cell_type": "code",
   "execution_count": null,
   "metadata": {},
   "outputs": [],
   "source": [
    "#I took the interactions for NAT2 gene in humans \n",
    "example = pd.read_csv('./biogrid/BIOGRID-GENE-106528-3.5.179.tab2.txt', sep='\\t')\n",
    "example.head()"
   ]
  },
  {
   "cell_type": "code",
   "execution_count": null,
   "metadata": {},
   "outputs": [],
   "source": [
    "#select only human genes\n",
    "biogrid_human=biogrid.loc[(biogrid['Organism Interactor A']==9606) & (biogrid['Organism Interactor B']==9606)]\n",
    "biogrid_human"
   ]
  },
  {
   "cell_type": "code",
   "execution_count": null,
   "metadata": {},
   "outputs": [],
   "source": [
    "# look for the genes which interacts with at least one seed genes\n",
    "biogrid_seed_genes = biogrid_human.loc[(biogrid_human['Official Symbol Interactor A'].isin(geneSymbol)) | (biogrid_human['Official Symbol Interactor B'].isin(geneSymbol))]\n",
    "biogrid_seed_genes"
   ]
  },
  {
   "cell_type": "markdown",
   "metadata": {},
   "source": [
    "## from our seed interaction let's search non-seeds genes that interacts with at least one seed gene"
   ]
  },
  {
   "cell_type": "code",
   "execution_count": null,
   "metadata": {},
   "outputs": [],
   "source": [
    "#Interactor A is not a seed gene but Interactor B is a seed gene\n",
    "non_seed_df_A = biogrid_seed_genes.loc[~(biogrid_seed_genes['Official Symbol Interactor A'].isin(geneSymbol))]\n",
    "seed_B = non_seed_df_A.loc[(non_seed_df_A ['Official Symbol Interactor B'].isin(geneSymbol))]"
   ]
  },
  {
   "cell_type": "code",
   "execution_count": null,
   "metadata": {},
   "outputs": [],
   "source": [
    "# interactor B is not a seed genes but Interactor A is a seed gene\n",
    "non_seed_df_B = biogrid_seed_genes.loc[~(biogrid_seed_genes['Official Symbol Interactor B'].isin(geneSymbol))]\n",
    "non_seed_df_B"
   ]
  },
  {
   "cell_type": "code",
   "execution_count": null,
   "metadata": {},
   "outputs": [],
   "source": [
    "# Reset Index, otherwise they don't work with list\n",
    "non_seed_df_A=non_seed_df_A.reset_index(drop=True)\n",
    "non_seed_df_B=non_seed_df_B.reset_index(drop=True)"
   ]
  },
  {
   "cell_type": "code",
   "execution_count": null,
   "metadata": {},
   "outputs": [],
   "source": [
    "non_seed_df_B"
   ]
  },
  {
   "cell_type": "code",
   "execution_count": null,
   "metadata": {},
   "outputs": [],
   "source": [
    "#build a list with only non seed genes that interacts with at least one seed gene\n",
    "non_seed_list=[]\n",
    "for i in range(0, len(non_seed_df_A)):\n",
    "    non_seed_list.append(non_seed_df_A['Official Symbol Interactor A'][i])"
   ]
  },
  {
   "cell_type": "code",
   "execution_count": null,
   "metadata": {},
   "outputs": [],
   "source": [
    "for i in range(0, len(non_seed_df_B)):\n",
    "    non_seed_list.append(non_seed_df_B['Official Symbol Interactor B'][i])"
   ]
  },
  {
   "cell_type": "code",
   "execution_count": null,
   "metadata": {},
   "outputs": [],
   "source": [
    "#drop duplicates\n",
    "non_seed_list = list(dict.fromkeys(non_seed_list))"
   ]
  },
  {
   "cell_type": "code",
   "execution_count": null,
   "metadata": {},
   "outputs": [],
   "source": [
    "# Verify Correctness\n",
    "for i in range(0, len(geneSymbol)):\n",
    "    for j in range(0, len(non_seed_list)):\n",
    "        if(geneSymbol[i] == non_seed_list[j]):\n",
    "            print(\"Something is wrong\")\n",
    "print(\"Ok\")"
   ]
  },
  {
   "cell_type": "code",
   "execution_count": null,
   "metadata": {},
   "outputs": [],
   "source": [
    "print(len(non_seed_list))"
   ]
  },
  {
   "cell_type": "code",
   "execution_count": null,
   "metadata": {},
   "outputs": [],
   "source": [
    "#now search for non seed interactions from the human DB\n",
    "#Return positions of non-seed genes that interacts with a non seed gene but both interacts with at least one seed gene\n",
    "biogrid_human = biogrid_human.reset_index(drop=True)\n",
    "#create a list of index of the original matrix with non seed genes interacting each others\n",
    "list_of_idx=[]\n",
    "#fill the list\n",
    "for i in range(len(biogrid_human)):\n",
    "    if biogrid_human['Official Symbol Interactor A'][i] in non_seed_list and biogrid_human['Official Symbol Interactor B'][i] in non_seed_list:\n",
    "        list_of_idx.append(i)"
   ]
  },
  {
   "cell_type": "code",
   "execution_count": null,
   "metadata": {},
   "outputs": [],
   "source": [
    "#biogrid_seed_genes\n",
    "biogrid_non_seed = biogrid_human.loc[list_of_idx]\n",
    "biogrid_non_seed = biogrid_non_seed.reset_index(drop=True)\n",
    "biogrid_non_seed"
   ]
  },
  {
   "cell_type": "code",
   "execution_count": null,
   "metadata": {},
   "outputs": [],
   "source": [
    "#make a table in which interactor 1 is seed and interactor 2 can be seed or non-seed\n",
    "biogrid_seed_df = biogrid_seed_genes.loc[(biogrid_seed_genes['Official Symbol Interactor A'].isin(geneSymbol))]\n",
    "interactome = pd.concat([biogrid_seed_df, biogrid_non_seed], ignore_index=True)\n",
    "#interactome.to_csv(\"interactome-biogrid.txt\", sep='\\t')"
   ]
  },
  {
   "cell_type": "code",
   "execution_count": null,
   "metadata": {},
   "outputs": [],
   "source": [
    "interactome = pd.read_csv(\"interactome-biogrid.txt\", sep= '\\t')\n",
    "interactome = interactome.drop(['Unnamed: 0'], axis = 1)\n",
    "interactome"
   ]
  },
  {
   "cell_type": "code",
   "execution_count": null,
   "metadata": {},
   "outputs": [],
   "source": [
    "iid = pd.read_csv('human_annotated_PPIs.txt', sep='\\t')\n",
    "iid"
   ]
  },
  {
   "cell_type": "code",
   "execution_count": null,
   "metadata": {},
   "outputs": [],
   "source": [
    "#select only rows with evidence type exp, drop some columns.\n",
    "iid = iid.loc[iid['evidence type'] == 'exp']\n",
    "icols = ['uniprot1', 'uniprot2', 'symbol1', 'symbol2' , 'evidence type', 'cancer']\n",
    "iid = iid.reset_index(drop=True)\n",
    "iid = iid[['uniprot1', 'uniprot2', 'symbol1', 'symbol2' , 'evidence type', 'cancer']]"
   ]
  },
  {
   "cell_type": "code",
   "execution_count": null,
   "metadata": {},
   "outputs": [],
   "source": [
    "iid"
   ]
  },
  {
   "cell_type": "code",
   "execution_count": null,
   "metadata": {},
   "outputs": [],
   "source": [
    "iid.to_csv('iid.txt', sep = '\\t')"
   ]
  },
  {
   "cell_type": "code",
   "execution_count": null,
   "metadata": {},
   "outputs": [],
   "source": [
    "#SAME PROCEDURE. "
   ]
  },
  {
   "cell_type": "code",
   "execution_count": null,
   "metadata": {},
   "outputs": [],
   "source": [
    "iid_seed_genes = iid.loc[(iid['symbol1'].isin(geneSymbol)) | (iid['symbol2'].isin(geneSymbol))]\n",
    "iid_seed_genes"
   ]
  },
  {
   "cell_type": "code",
   "execution_count": null,
   "metadata": {},
   "outputs": [],
   "source": [
    "non_seed_1 = iid_seed_genes.loc[~(iid_seed_genes['symbol1'].isin(geneSymbol))]\n",
    "# interactor 1 is not a seed genes and interacts with a seed gene\n",
    "#B is a seed gene\n",
    "non_seed_1"
   ]
  },
  {
   "cell_type": "code",
   "execution_count": null,
   "metadata": {},
   "outputs": [],
   "source": [
    "non_seed_2 = iid_seed_genes.loc[~(iid_seed_genes['symbol2'].isin(geneSymbol))]\n",
    "# interactor 1 is not a seed genes and interacts with a seed gene\n",
    "#B is a seed gene\n",
    "non_seed_2"
   ]
  },
  {
   "cell_type": "code",
   "execution_count": null,
   "metadata": {},
   "outputs": [],
   "source": [
    "non_seed_1=non_seed_1.reset_index(drop=True)\n",
    "non_seed_2=non_seed_2.reset_index(drop=True)"
   ]
  },
  {
   "cell_type": "code",
   "execution_count": null,
   "metadata": {},
   "outputs": [],
   "source": [
    "#build a list with only non seed genes that interacts with at least one seed gene\n",
    "non_seed=[]\n",
    "#non_seed_df_A = biogrid_seed_genes.loc[~(biogrid_seed_genes['Official Symbol Interactor A'].isin(geneSymbol))]\n",
    "for i in range(0, len(non_seed_1)):\n",
    "    non_seed.append(non_seed_1['symbol1'][i])\n",
    "for i in range(0, len(non_seed_2)):\n",
    "    non_seed.append(non_seed_2['symbol2'][i])\n",
    "#drop duplicates\n",
    "non_seed = list(dict.fromkeys(non_seed))"
   ]
  },
  {
   "cell_type": "code",
   "execution_count": null,
   "metadata": {},
   "outputs": [],
   "source": [
    "len(non_seed)"
   ]
  },
  {
   "cell_type": "code",
   "execution_count": null,
   "metadata": {},
   "outputs": [],
   "source": [
    "iid=iid.reset_index(drop=True)\n",
    "list_of_idx=[]\n",
    "#fill the list\n",
    "for i in range(len(iid_seed_genes)):\n",
    "    if iid['symbol1'][i] in non_seed and iid['symbol2'][i] in non_seed:\n",
    "        list_of_idx.append(i)"
   ]
  },
  {
   "cell_type": "code",
   "execution_count": null,
   "metadata": {},
   "outputs": [],
   "source": [
    "#biogrid_seed_genes\n",
    "iid_non_seed = iid.loc[list_of_idx]\n",
    "iid_non_seed = iid_non_seed.reset_index(drop=True)\n",
    "iid_non_seed"
   ]
  },
  {
   "cell_type": "code",
   "execution_count": null,
   "metadata": {},
   "outputs": [],
   "source": [
    "iid_seed_df = iid_seed_genes.loc[(iid_seed_genes['symbol1'].isin(geneSymbol))]\n",
    "interactome2 = pd.concat([iid_seed_df, iid_non_seed], ignore_index=True)\n",
    "interactome2.to_csv(\"interactome-iid.txt\", sep='\\t')"
   ]
  },
  {
   "cell_type": "code",
   "execution_count": null,
   "metadata": {},
   "outputs": [],
   "source": [
    "interactome2 = pd.read_csv(\"interactome-iid.txt\", sep='\\t')"
   ]
  },
  {
   "cell_type": "code",
   "execution_count": null,
   "metadata": {},
   "outputs": [],
   "source": [
    "interactome2 = interactome2.drop(['Unnamed: 0'], axis = 1)"
   ]
  },
  {
   "cell_type": "code",
   "execution_count": null,
   "metadata": {},
   "outputs": [],
   "source": [
    "interactome2"
   ]
  },
  {
   "cell_type": "code",
   "execution_count": null,
   "metadata": {},
   "outputs": [],
   "source": [
    "interactome"
   ]
  },
  {
   "cell_type": "markdown",
   "metadata": {},
   "source": [
    "### Summarize the main results in a table reporting:\n",
    "* no. of seed genes found in each different DBs (some seed genes may be missing in the DBs);\n",
    "* total no. of interacting proteins, including seed genes, for each DB;\n",
    "* total no. of interactions found in each DB."
   ]
  },
  {
   "cell_type": "code",
   "execution_count": null,
   "metadata": {},
   "outputs": [],
   "source": [
    "len(geneSymbol)"
   ]
  },
  {
   "cell_type": "code",
   "execution_count": null,
   "metadata": {},
   "outputs": [],
   "source": [
    "seed_B = non_seed_df_A.loc[(non_seed_df_A ['Official Symbol Interactor B'].isin(geneSymbol))]\n",
    "seed_A = non_seed_df_B.loc[(non_seed_df_B ['Official Symbol Interactor A'].isin(geneSymbol))]"
   ]
  },
  {
   "cell_type": "code",
   "execution_count": null,
   "metadata": {},
   "outputs": [],
   "source": [
    "def find_unique_genes(dataframe, column_name):\n",
    "    genes_found = []\n",
    "    for index in range(len(dataframe)):\n",
    "        if dataframe[column_name][index] not in genes_found:\n",
    "            genes_found.append(dataframe[column_name][index])\n",
    "    return genes_found"
   ]
  },
  {
   "cell_type": "code",
   "execution_count": null,
   "metadata": {},
   "outputs": [],
   "source": [
    "# Genes from Biogrid\n",
    "\n",
    "la = find_unique_genes(seed_B, 'Official Symbol Interactor B')\n",
    "lb = find_unique_genes(seed_A, 'Official Symbol Interactor A')\n",
    "l_tot = la + lb\n",
    "#drop duplicates\n",
    "total_genes = list(dict.fromkeys(l_tot))\n",
    "len(total_genes)\n",
    "missing_gene = []\n",
    "for index in range(len(geneSymbol)):\n",
    "    if geneSymbol[index] not in total_genes:\n",
    "        missing_gene.append(geneSymbol[index])\n",
    "print(\"Genes missing in Biogrid\\n\", missing_gene)"
   ]
  },
  {
   "cell_type": "code",
   "execution_count": null,
   "metadata": {},
   "outputs": [],
   "source": [
    "# Genes from IID \n",
    "seed1 = non_seed_2.loc[(non_seed_2['symbol1'].isin(geneSymbol))]\n",
    "seed2 = non_seed_1.loc[(non_seed_1['symbol2'].isin(geneSymbol))]\n",
    "# interactor 1 is not a seed genes and interacts with a seed gene\n",
    "#B is a seed gene\n",
    "l1 = find_unique_genes(seed1, 'symbol1')\n",
    "l2 = find_unique_genes(seed2, 'symbol2')\n",
    "l = l1+l2\n",
    "#drop duplicates\n",
    "i_genes = list(dict.fromkeys(l))\n",
    "iid_missing = []\n",
    "for index in range(len(geneSymbol)):\n",
    "    if geneSymbol[index] not in i_genes:\n",
    "        iid_missing.append(geneSymbol[index])\n",
    "print(\"Genes missing from IID DB \\n\", iid_missing)"
   ]
  },
  {
   "cell_type": "markdown",
   "metadata": {},
   "source": [
    "total no. of interacting proteins, including seed genes, for each DB;"
   ]
  },
  {
   "cell_type": "code",
   "execution_count": null,
   "metadata": {},
   "outputs": [],
   "source": [
    "interactors= []\n",
    "for index in range(len(biogrid_human)):\n",
    "    if biogrid_human['Official Symbol Interactor A'][index] not in interactors:\n",
    "        interactors.append(biogrid_human['Official Symbol Interactor A'][index])\n",
    "    if biogrid_human['Official Symbol Interactor B'][index] not in interactors:\n",
    "        interactors.append(biogrid_human['Official Symbol Interactor B'][index])"
   ]
  },
  {
   "cell_type": "code",
   "execution_count": null,
   "metadata": {},
   "outputs": [],
   "source": [
    "len(interactors)"
   ]
  },
  {
   "cell_type": "code",
   "execution_count": null,
   "metadata": {},
   "outputs": [],
   "source": [
    "def count_interactors(dataframe, column1, column2):\n",
    "    interactors= []\n",
    "    for index in range(len(dataframe)):\n",
    "        if dataframe[column1][index] not in interactors:\n",
    "            interactors.append(dataframe[column1][index])\n",
    "        if dataframe[column2][index] not in interactors:\n",
    "            interactors.append(dataframe[column2][index])\n",
    "    return len(interactors)"
   ]
  },
  {
   "cell_type": "code",
   "execution_count": null,
   "metadata": {},
   "outputs": [],
   "source": [
    "iid_len = count_interactors(iid, 'symbol1', 'symbol2')"
   ]
  },
  {
   "cell_type": "code",
   "execution_count": null,
   "metadata": {},
   "outputs": [],
   "source": [
    "print(iid_len)"
   ]
  },
  {
   "cell_type": "code",
   "execution_count": null,
   "metadata": {},
   "outputs": [],
   "source": [
    "len(iid)"
   ]
  },
  {
   "cell_type": "code",
   "execution_count": null,
   "metadata": {},
   "outputs": [],
   "source": [
    "# total no. of interactions found in each DB."
   ]
  },
  {
   "cell_type": "code",
   "execution_count": null,
   "metadata": {},
   "outputs": [],
   "source": [
    "countbio = biogrid_human['#BioGRID Interaction ID'].nunique()\n",
    "print(countbio)"
   ]
  },
  {
   "cell_type": "code",
   "execution_count": null,
   "metadata": {},
   "outputs": [],
   "source": [
    "uniquesyms = []\n",
    "for index in range(0, len(iid)):\n",
    "    sym1 = iid['symbol1'][index]\n",
    "    sym2 = iid['symbol2'][index]\n",
    "    uniquesyms.append(sym1+sym2)\n",
    "#drop duplicates"
   ]
  },
  {
   "cell_type": "code",
   "execution_count": null,
   "metadata": {},
   "outputs": [],
   "source": [
    "uniquesyms = list(dict.fromkeys(uniquesyms))\n",
    "print(len(uniquesyms))"
   ]
  },
  {
   "cell_type": "markdown",
   "metadata": {},
   "source": [
    "### Build and store three tables:\n",
    "\n",
    "* seed genes interactome: interactions that involve seed genes only, from all DBs, in the format:\n",
    "  interactor A gene symbol, interactor B gene symbol, interactor A Uniprot AC, interactor B\n",
    "  Uniprot AC, database source\n",
    "* union interactome: all proteins interacting with at least one seed gene, from all DBs, same format as above.\n",
    "* intersection interactome: all proteins interacting with at least one seed gene confirmed by both DBs, in the       format: interactor A gene symbol, interactor B gene symbol, interactor A Uniprot AC, interactor B Uniprot AC\n",
    "\n",
    "Always check that interactors are both human (i.e. organism ID is always 9606, Homo\n",
    "Sapiens)"
   ]
  },
  {
   "cell_type": "code",
   "execution_count": null,
   "metadata": {},
   "outputs": [],
   "source": []
  },
  {
   "cell_type": "code",
   "execution_count": null,
   "metadata": {},
   "outputs": [],
   "source": [
    "uniprot_human = pd.read_csv(\"./uniprot/HUMAN_9606_idmapping.dat\", sep = '\\t')"
   ]
  },
  {
   "cell_type": "code",
   "execution_count": null,
   "metadata": {},
   "outputs": [],
   "source": [
    "uniprot_human"
   ]
  },
  {
   "cell_type": "code",
   "execution_count": null,
   "metadata": {},
   "outputs": [],
   "source": [
    "#save a list of all the symbols in order to search their uniprot\n",
    "sym_to_fix=[]\n",
    "sym_to_fix.extend(biogrid_human['Official Symbol Interactor A'])\n",
    "sym_to_fix.extend(biogrid_human['Official Symbol Interactor B'])\n",
    "\n",
    "#remove duplicates\n",
    "sym_to_fix=list(set(sym_to_fix))\n",
    "\n",
    "# using join() \n",
    "# avoiding printing last comma \n",
    "print(\"The formatted output is : \") \n",
    "print(', '.join(sym_to_fix)) \n",
    "##print in order to search on uniprot.com"
   ]
  },
  {
   "cell_type": "code",
   "execution_count": null,
   "metadata": {},
   "outputs": [],
   "source": [
    "#upload the uniprot fixing file\n",
    "unigene = pd.read_csv(\"./uniprot/uniprot-geneid-mapping.tab\", sep = '\\t')"
   ]
  },
  {
   "cell_type": "code",
   "execution_count": null,
   "metadata": {},
   "outputs": [],
   "source": [
    "#create a dictionary that maps symbol with its uniprot\n",
    "unigene=unigene.rename(columns={\"yourlist:M202001056746803381A1F0E0DB47453E0216320D5454DDB\": \"symbol\"})\n",
    "unigene=pd.Series(unigene.Entry.values, index=unigene.symbol).to_dict()\n",
    "biogrid_human['UniprotAC interactor A']= biogrid_human['Official Symbol Interactor A'].map(unigene)\n",
    "biogrid_human['UniprotAC interactor B']= biogrid_human['Official Symbol Interactor B'].map(unigene)\n",
    "biogrid_human"
   ]
  },
  {
   "cell_type": "code",
   "execution_count": null,
   "metadata": {},
   "outputs": [],
   "source": [
    "iid_human = pd.read_csv('iid.txt', sep = '\\t')\n",
    "iid_human.drop(['Unnamed: 0'], axis = 1)"
   ]
  },
  {
   "cell_type": "code",
   "execution_count": null,
   "metadata": {},
   "outputs": [],
   "source": [
    "#SEED GENES INTERACTOME\n",
    "def build_first_table(biogrid_human, iid_human):\n",
    "    db1 = 'Biogrid Human'\n",
    "    db2 = 'Integrated Interactions Database experimental data'\n",
    "    t = pd.DataFrame(columns=['interactorA', 'interactorB', \n",
    "                                        'interactorA_Uniprot_AC', 'interactorB_Uniprot_AC', 'db_source'])\n",
    "    for i in range(len(biogrid_human)):\n",
    "        sa = biogrid_human['Official Symbol Interactor A'][i]\n",
    "        sb = biogrid_human['Official Symbol Interactor B'][i]\n",
    "        uniprota = biogrid_human['UniprotAC interactor A'][i]\n",
    "        uniprotb = biogrid_human['UniprotAC interactor B'][i]\n",
    "        if sa in geneSymbol and sb in geneSymbol:\n",
    "            t = t.append({'interactorA':sa, 'interactorB':sb, \n",
    "                          'interactorA_Uniprot_AC':uniprota, 'interactorB_Uniprot_AC':uniprotb, 'db_source': db1}\n",
    "                         , ignore_index=True)\n",
    "    for i in range(len(iid_human)):\n",
    "        sa = iid_human['symbol1'][i]\n",
    "        sb = iid_human['symbol2'][i]\n",
    "        uniprota = iid_human['uniprot1'][i]\n",
    "        uniprotb = iid_human['uniprot2'][i]\n",
    "        if sa in geneSymbol and sb in geneSymbol:\n",
    "            t = t.append({'interactorA':sa, 'interactorB':sb, \n",
    "                          'interactorA_Uniprot_AC':uniprota, 'interactorB_Uniprot_AC':uniprotb, 'db_source': db2}\n",
    "                         , ignore_index=True)\n",
    "    t.to_csv(\"seed_genes_interactome.tsv\", sep = '\\t')"
   ]
  },
  {
   "cell_type": "code",
   "execution_count": null,
   "metadata": {},
   "outputs": [],
   "source": [
    "biogrid_human=biogrid_human.reset_index(drop=True)\n",
    "iid_human=iid_human.reset_index(drop=True)\n",
    "build_first_table(biogrid_human, iid_human)"
   ]
  },
  {
   "cell_type": "code",
   "execution_count": null,
   "metadata": {},
   "outputs": [],
   "source": [
    "interactome_seed = pd.read_csv(\"seed_genes_interactome.tsv\", sep = '\\t')\n",
    "interactome_seed.drop(['Unnamed: 0'], axis = 1)"
   ]
  },
  {
   "cell_type": "markdown",
   "metadata": {},
   "source": [
    "union interactome: all proteins interacting with at least one seed gene, from all DBs, same format as above."
   ]
  },
  {
   "cell_type": "code",
   "execution_count": null,
   "metadata": {},
   "outputs": [],
   "source": [
    "biogrid_human"
   ]
  },
  {
   "cell_type": "code",
   "execution_count": null,
   "metadata": {},
   "outputs": [],
   "source": [
    "def build_union_interactome(biogrid_human, iid_human):\n",
    "    db1 = 'Biogrid Human'\n",
    "    db2 = 'Integrated Interactions Database experimental data'\n",
    "    t = pd.DataFrame(columns=['interactorA', 'interactorB', \n",
    "                                        'interactorA_Uniprot_AC', 'interactorB_Uniprot_AC', 'db_source'])\n",
    "    for i in range(len(biogrid_human)):\n",
    "        sa = biogrid_human['Official Symbol Interactor A'][i]\n",
    "        sb = biogrid_human['Official Symbol Interactor B'][i]\n",
    "        uniprota = biogrid_human['UniprotAC interactor A'][i]\n",
    "        uniprotb = biogrid_human['UniprotAC interactor B'][i]\n",
    "        if sa in geneSymbol or sb in geneSymbol:\n",
    "            t = t.append({'interactorA':sa, 'interactorB':sb, \n",
    "                          'interactorA_Uniprot_AC':uniprota, 'interactorB_Uniprot_AC':uniprotb, 'db_source': db1}\n",
    "                         , ignore_index=True)\n",
    "    for i in range(len(iid_human)):\n",
    "        sa = iid_human['symbol1'][i]\n",
    "        sb = iid_human['symbol2'][i]\n",
    "        uniprota = iid_human['uniprot1'][i]\n",
    "        uniprotb = iid_human['uniprot2'][i]\n",
    "        if sa in geneSymbol or sb in geneSymbol:\n",
    "            t = t.append({'interactorA':sa, 'interactorB':sb, \n",
    "                          'interactorA_Uniprot_AC':uniprota, 'interactorB_Uniprot_AC':uniprotb, 'db_source': db2}\n",
    "                         , ignore_index=True)\n",
    "    t.to_csv(\"union_interactome.tsv\", sep = '\\t')"
   ]
  },
  {
   "cell_type": "code",
   "execution_count": null,
   "metadata": {},
   "outputs": [],
   "source": [
    "biogrid_human=biogrid_human.reset_index(drop=True)\n",
    "iid_human=iid_human.reset_index(drop=True)\n",
    "build_union_interactome(biogrid_human, iid_human)"
   ]
  },
  {
   "cell_type": "code",
   "execution_count": null,
   "metadata": {},
   "outputs": [],
   "source": [
    "unionint = pd.read_csv(\"union_interactome.tsv\", sep = '\\t')"
   ]
  },
  {
   "cell_type": "code",
   "execution_count": null,
   "metadata": {},
   "outputs": [],
   "source": [
    "unionint"
   ]
  },
  {
   "cell_type": "markdown",
   "metadata": {},
   "source": [
    "### intersection interactome: all proteins interacting with at least one seed gene confirmed by both DBs, in the       format: interactor A gene symbol, interactor B gene symbol, interactor A Uniprot AC, interactor B Uniprot AC\n"
   ]
  },
  {
   "cell_type": "code",
   "execution_count": null,
   "metadata": {},
   "outputs": [],
   "source": [
    "def build_intersection_interactome(biogrid_human, iid_human):\n",
    "    db1 = 'Biogrid Human'\n",
    "    db2 = 'Integrated Interactions Database experimental data'\n",
    "    union = pd.read_csv(\"union_interactome.tsv\", sep = '\\t')\n",
    "    \n",
    "    union_biogrid = union.loc[(union['db_source'] == 'Biogrid Human')]\n",
    "    union_biogrid = union_biogrid.drop(['Unnamed: 0', 'db_source'], axis = 1)\n",
    "    \n",
    "    union_iid = union.loc[(union['db_source'] == 'Integrated Interactions Database experimental data')]\n",
    "    union_iid = union_iid.drop(['Unnamed: 0', 'db_source'], axis = 1)\n",
    "    \n",
    "    intersect = pd.merge(union_biogrid, union_iid)\n",
    "    intersect.dropna(inplace=True)\n",
    "    intersect.to_csv(\"intersection_interactome.tsv\", sep = '\\t')"
   ]
  },
  {
   "cell_type": "code",
   "execution_count": null,
   "metadata": {},
   "outputs": [],
   "source": [
    "biogrid_human=biogrid_human.reset_index(drop=True)\n",
    "iid_human=iid_human.reset_index(drop=True)\n",
    "build_intersection_interactome(biogrid_human, iid_human)"
   ]
  },
  {
   "cell_type": "code",
   "execution_count": null,
   "metadata": {},
   "outputs": [],
   "source": [
    "intersect = pd.read_csv(\"intersection_interactome.tsv\", sep = '\\t')"
   ]
  },
  {
   "cell_type": "code",
   "execution_count": null,
   "metadata": {},
   "outputs": [],
   "source": [
    "intersect"
   ]
  },
  {
   "cell_type": "markdown",
   "metadata": {},
   "source": [
    "### Enrichment analysis\n",
    "* Using the service Enrichr, find, report in tables and save related charts (8 charts in total) of the overrepresented GO categories (limit to the first 10 for each main category, BP, MF, CL) and the the overrepresented pathways (KEGG 2019 Human) for:\n",
    "    * the seed genes,\n",
    "    * the union interactome genes"
   ]
  },
  {
   "cell_type": "code",
   "execution_count": null,
   "metadata": {},
   "outputs": [],
   "source": [
    "unionint = pd.read_csv(\"union_interactome.tsv\", sep = '\\t')\n",
    "unionint = unionint.drop(['Unnamed: 0'], axis = 1)\n",
    "\n",
    "interactome_seed = pd.read_csv(\"seed_genes_interactome.tsv\", sep = '\\t')\n",
    "interactome_seed = interactome_seed.drop(['Unnamed: 0'], axis = 1)"
   ]
  },
  {
   "cell_type": "code",
   "execution_count": null,
   "metadata": {},
   "outputs": [],
   "source": [
    "interactome_seed"
   ]
  },
  {
   "cell_type": "code",
   "execution_count": null,
   "metadata": {},
   "outputs": [],
   "source": [
    "#save a list of all the symbols in order to search their uniprot\n",
    "def print_list(dataframe, column1, column2):\n",
    "    sym_to_fix=[]\n",
    "    sym_to_fix.extend(dataframe[column1])\n",
    "    sym_to_fix.extend(dataframe[column2])\n",
    "    #remove duplicates\n",
    "    sym_to_fix=list(set(sym_to_fix))\n",
    "    # using join() \n",
    "    # avoiding printing last comma \n",
    "    for gene in sym_to_fix:\n",
    "        print(gene)"
   ]
  },
  {
   "cell_type": "code",
   "execution_count": null,
   "metadata": {},
   "outputs": [],
   "source": [
    "print_list(interactome_seed, 'interactorA', 'interactorB')\n",
    "#Print this list and put the list to https://amp.pharm.mssm.edu/Enrichr Enrichr. Than download KEGG HUMAN 2019 and Ontologies tables"
   ]
  },
  {
   "cell_type": "code",
   "execution_count": null,
   "metadata": {},
   "outputs": [],
   "source": [
    "sym_to_fix=[]\n",
    "sym_to_fix.extend(unionint['interactorA'])\n",
    "sym_to_fix.extend(unionint['interactorB'])\n",
    "#remove duplicates\n",
    "sym_to_fix=list(set(sym_to_fix))\n",
    "# using join() \n",
    "# avoiding printing last comma \n",
    "#print(', '.join(sym_to_fix)) \n",
    "\n",
    "# deleted quotes to pass the list into site\n",
    "#https://www.genenames.org/tools/multi-symbol-checker/"
   ]
  },
  {
   "cell_type": "code",
   "execution_count": null,
   "metadata": {},
   "outputs": [],
   "source": [
    "approvedsym = pd.read_csv(\"approved-symbols.csv\", sep = ',')"
   ]
  },
  {
   "cell_type": "code",
   "execution_count": null,
   "metadata": {},
   "outputs": [],
   "source": [
    "approvedsym.head()"
   ]
  },
  {
   "cell_type": "markdown",
   "metadata": {},
   "source": [
    "Now, let's open the downloaded kegg and go tables and save only the first 10 entries"
   ]
  },
  {
   "cell_type": "code",
   "execution_count": null,
   "metadata": {},
   "outputs": [],
   "source": [
    "kegg_seed = pd.read_table(\"enrichr/kegg_human/seed/KEGG_2019_Human_table.txt\")\n",
    "kegg_seed = kegg_seed[:10]\n",
    "kegg_seed.to_csv(\"enrichr/kegg_human/seed/KEGG_2019_Human_table.txt\")"
   ]
  },
  {
   "cell_type": "code",
   "execution_count": null,
   "metadata": {},
   "outputs": [],
   "source": [
    "kegg_union = pd.read_table(\"enrichr/kegg_human/union/KEGG_2019_Human_table.txt\")\n",
    "kegg_union = kegg_union[:10]\n",
    "kegg_union.to_csv(\"enrichr/kegg_human/union/KEGG_2019_Human_table_top10.txt\")"
   ]
  },
  {
   "cell_type": "code",
   "execution_count": null,
   "metadata": {},
   "outputs": [],
   "source": [
    "go_bp_seed = pd.read_table(\"enrichr/ontologies/seed/GO_Biological_Process_2018_table.txt\")\n",
    "go_bp_seed = go_bp_seed[:10]\n",
    "go_bp_seed.to_csv(\"enrichr/ontologies/seed/GO_Biological_Process_2018_table.txt\")\n",
    "\n",
    "go_mf_seed = pd.read_table(\"enrichr/ontologies/seed/GO_Molecular_Function_2018_table.txt\")\n",
    "go_mf_seed = go_mf_seed[:10]\n",
    "go_mf_seed.to_csv(\"enrichr/ontologies/seed/GO_Molecular_Function_2018_table.txt\")\n",
    "\n",
    "go_cc_seed = pd.read_csv(\"enrichr/ontologies/seed/GO_Cellular_Component_2018_table.txt\")\n",
    "go_cc_seed = go_cc_seed[:10]\n",
    "go_cc_seed.to_csv(\"enrichr/ontologies/seed/GO_Cellular_Component_2018_table.txt\")"
   ]
  },
  {
   "cell_type": "code",
   "execution_count": null,
   "metadata": {},
   "outputs": [],
   "source": [
    "go_cc_seed = pd.read_csv(\"enrichr/ontologies/seed/GO_Cellular_Component_2018_table.csv\")"
   ]
  },
  {
   "cell_type": "code",
   "execution_count": null,
   "metadata": {},
   "outputs": [],
   "source": [
    "go_cc_seed"
   ]
  },
  {
   "cell_type": "code",
   "execution_count": null,
   "metadata": {},
   "outputs": [],
   "source": [
    "go_bp_union = pd.read_table(\"enrichr/ontologies/union/GO_Biological_Process_2018_table.txt\")\n",
    "go_bp_union = go_bp_union[:10]\n",
    "go_bp_union.to_csv(\"enrichr/ontologies/union/GO_Biological_Process_2018_table.txt\")\n",
    "\n",
    "go_mf_union = pd.read_table(\"enrichr/ontologies/union/GO_Molecular_Function_2018_table.txt\")\n",
    "go_mf_union = go_mf_union[:10]\n",
    "go_mf_union.to_csv(\"enrichr/ontologies/union/GO_Molecular_Function_2018_table.txt\")"
   ]
  },
  {
   "cell_type": "code",
   "execution_count": null,
   "metadata": {},
   "outputs": [],
   "source": [
    "go_cc_union = pd.read_csv(\"enrichr/ontologies/union/GO_Cellular_Component_2018_table.csv\")"
   ]
  },
  {
   "cell_type": "code",
   "execution_count": null,
   "metadata": {},
   "outputs": [],
   "source": [
    "go_cc_union"
   ]
  },
  {
   "cell_type": "code",
   "execution_count": null,
   "metadata": {},
   "outputs": [],
   "source": []
  }
 ],
 "metadata": {
  "kernelspec": {
   "display_name": "Python 3",
   "language": "python",
   "name": "python3"
  },
  "language_info": {
   "codemirror_mode": {
    "name": "ipython",
    "version": 3
   },
   "file_extension": ".py",
   "mimetype": "text/x-python",
   "name": "python",
   "nbconvert_exporter": "python",
   "pygments_lexer": "ipython3",
   "version": "3.7.3"
  }
 },
 "nbformat": 4,
 "nbformat_minor": 2
}
