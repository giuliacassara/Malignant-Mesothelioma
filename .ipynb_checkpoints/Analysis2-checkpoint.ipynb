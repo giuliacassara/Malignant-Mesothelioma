{
 "cells": [
  {
   "cell_type": "code",
   "execution_count": 40,
   "metadata": {},
   "outputs": [],
   "source": [
    "import pandas as pd\n",
    "import numpy as np\n",
    "import csv \n",
    "import networkx as nx\n",
    "import matplotlib.pyplot as plt\n",
    "import markov_clustering as mc\n",
    "import os\n",
    "import sys \n",
    "from scipy.stats import hypergeom"
   ]
  },
  {
   "cell_type": "code",
   "execution_count": null,
   "metadata": {},
   "outputs": [],
   "source": [
    "intersect = pd.read_csv(\"intersection_interactome.tsv\", sep = '\\t')\n",
    "G_int = nx.from_pandas_edgelist(intersect,'interactorA','interactorB')\n",
    "nx.draw(G_int, with_labels=True, width=0.2 , node_size=5, font_size=2, font_color='b')\n",
    "plt.savefig(\"g_int.pdf\")\n",
    "print(nx.info(G_int))\n",
    "#nx.write_gml(G_int,'g_int.gml')"
   ]
  },
  {
   "cell_type": "code",
   "execution_count": 32,
   "metadata": {},
   "outputs": [],
   "source": [
    "union_clusters1 = pd.read_csv(\"Ucluster/Ucluster1.csv\",usecols=['name'])\n",
    "#union_clusters1\n",
    "seed_genes_nodes = pd.read_csv(\"g_seednode.csv\",usecols=['name'])\n",
    "#seed_genes_nodes[0]    "
   ]
  },
  {
   "cell_type": "code",
   "execution_count": 62,
   "metadata": {},
   "outputs": [],
   "source": [
    "clusters_u = pd.DataFrame(columns = ['Clus1','Clus2','Clus3','Clus4','Clus5','Clus6','Clus7','Clus8','Clus9','Clus10','Clus11','Clus12','Clus13','Clus14','Clus15','Clus16','Clus17','Clus18','Clus19'])\n",
    "#clusters\n",
    "for z in range(1,19): \n",
    "    union_clusters = pd.read_csv(\"Ucluster/Ucluster\" + str(z)+\".csv\",usecols=['name'])    \n",
    "    count = 0\n",
    "    for i in seed_genes_nodes.index:\n",
    "        curr = seed_genes_nodes.loc[i,'name']\n",
    "        for j in union_clusters.index:\n",
    "            if curr == union_clusters.loc[j,'name']:\n",
    "                count +=1 \n",
    "    clusters_u.loc[1,'Clus'+str(z)] = count\n",
    "clusters_u.loc[2,'Clus'+str(z)] = j\n",
    "    "
   ]
  },
  {
   "cell_type": "code",
   "execution_count": 67,
   "metadata": {},
   "outputs": [
    {
     "ename": "SyntaxError",
     "evalue": "invalid syntax (<ipython-input-67-38d70246874e>, line 2)",
     "output_type": "error",
     "traceback": [
      "\u001b[0;36m  File \u001b[0;32m\"<ipython-input-67-38d70246874e>\"\u001b[0;36m, line \u001b[0;32m2\u001b[0m\n\u001b[0;31m    for z in range(1,4):\u001b[0m\n\u001b[0m      ^\u001b[0m\n\u001b[0;31mSyntaxError\u001b[0m\u001b[0;31m:\u001b[0m invalid syntax\n"
     ]
    }
   ],
   "source": [
    "clusters_i = pd.DataFrame(columns = ['Clus1','Clus2','Clus3','Clus4']\n",
    "for z in range(1,4):\n",
    "    intersection_clusters = pd.read_csv(\"Icluster/Icluster\" + str(z)+\".csv\",usecols=['name'])    \n",
    "    count = 0\n",
    "    for i in seed_genes_nodes.index:\n",
    "        curr = seed_genes_nodes.loc[i,'name']\n",
    "        for j in intersection_clusters.index:\n",
    "            if curr == intersection_clusters.loc[j,'name']:\n",
    "                count +=1 \n",
    "    clusters_i.loc[1,'Clus'+str(z)] = count\n",
    "clusters_i.loc[2,'Clus'+str(z)] = j                         "
   ]
  },
  {
   "cell_type": "code",
   "execution_count": 61,
   "metadata": {},
   "outputs": [
    {
     "data": {
      "text/plain": [
       "Int64Index([1, 2], dtype='int64')"
      ]
     },
     "execution_count": 61,
     "metadata": {},
     "output_type": "execute_result"
    }
   ],
   "source": [
    "clusters"
   ]
  },
  {
   "cell_type": "code",
   "execution_count": 58,
   "metadata": {},
   "outputs": [
    {
     "ename": "AttributeError",
     "evalue": "'Series' object has no attribute 'setvalue'",
     "output_type": "error",
     "traceback": [
      "\u001b[0;31m--------------------------------------\u001b[0m",
      "\u001b[0;31mAttributeError\u001b[0mTraceback (most recent call last)",
      "\u001b[0;32m<ipython-input-58-2b6c11b32c01>\u001b[0m in \u001b[0;36m<module>\u001b[0;34m\u001b[0m\n\u001b[1;32m      2\u001b[0m \u001b[0;32mfor\u001b[0m \u001b[0mi\u001b[0m \u001b[0;32min\u001b[0m \u001b[0mint_clustered\u001b[0m\u001b[0;34m.\u001b[0m\u001b[0mindex\u001b[0m\u001b[0;34m:\u001b[0m\u001b[0;34m\u001b[0m\u001b[0;34m\u001b[0m\u001b[0m\n\u001b[1;32m      3\u001b[0m     \u001b[0mk\u001b[0m \u001b[0;34m=\u001b[0m \u001b[0mint_clustered\u001b[0m\u001b[0;34m.\u001b[0m\u001b[0mloc\u001b[0m\u001b[0;34m[\u001b[0m\u001b[0mi\u001b[0m\u001b[0;34m,\u001b[0m\u001b[0;34m\"__mclCluster\"\u001b[0m\u001b[0;34m]\u001b[0m\u001b[0;34m\u001b[0m\u001b[0;34m\u001b[0m\u001b[0m\n\u001b[0;32m----> 4\u001b[0;31m     \u001b[0mclusters\u001b[0m\u001b[0;34m[\u001b[0m\u001b[0;34m'Clus1'\u001b[0m\u001b[0;34m+\u001b[0m\u001b[0mstr\u001b[0m\u001b[0;34m(\u001b[0m\u001b[0mk\u001b[0m\u001b[0;34m)\u001b[0m\u001b[0;34m]\u001b[0m\u001b[0;34m.\u001b[0m\u001b[0msetvalue\u001b[0m\u001b[0;34m(\u001b[0m \u001b[0mint_clustered\u001b[0m\u001b[0;34m.\u001b[0m\u001b[0mloc\u001b[0m\u001b[0;34m[\u001b[0m\u001b[0mi\u001b[0m\u001b[0;34m,\u001b[0m\u001b[0;34m\"name\"\u001b[0m\u001b[0;34m]\u001b[0m\u001b[0;34m)\u001b[0m\u001b[0;34m\u001b[0m\u001b[0;34m\u001b[0m\u001b[0m\n\u001b[0m",
      "\u001b[0;32m~/anaconda3/lib/python3.7/site-packages/pandas/core/generic.py\u001b[0m in \u001b[0;36m__getattr__\u001b[0;34m(self, name)\u001b[0m\n\u001b[1;32m   4374\u001b[0m             \u001b[0;32mif\u001b[0m \u001b[0mself\u001b[0m\u001b[0;34m.\u001b[0m\u001b[0m_info_axis\u001b[0m\u001b[0;34m.\u001b[0m\u001b[0m_can_hold_identifiers_and_holds_name\u001b[0m\u001b[0;34m(\u001b[0m\u001b[0mname\u001b[0m\u001b[0;34m)\u001b[0m\u001b[0;34m:\u001b[0m\u001b[0;34m\u001b[0m\u001b[0;34m\u001b[0m\u001b[0m\n\u001b[1;32m   4375\u001b[0m                 \u001b[0;32mreturn\u001b[0m \u001b[0mself\u001b[0m\u001b[0;34m[\u001b[0m\u001b[0mname\u001b[0m\u001b[0;34m]\u001b[0m\u001b[0;34m\u001b[0m\u001b[0;34m\u001b[0m\u001b[0m\n\u001b[0;32m-> 4376\u001b[0;31m             \u001b[0;32mreturn\u001b[0m \u001b[0mobject\u001b[0m\u001b[0;34m.\u001b[0m\u001b[0m__getattribute__\u001b[0m\u001b[0;34m(\u001b[0m\u001b[0mself\u001b[0m\u001b[0;34m,\u001b[0m \u001b[0mname\u001b[0m\u001b[0;34m)\u001b[0m\u001b[0;34m\u001b[0m\u001b[0;34m\u001b[0m\u001b[0m\n\u001b[0m\u001b[1;32m   4377\u001b[0m \u001b[0;34m\u001b[0m\u001b[0m\n\u001b[1;32m   4378\u001b[0m     \u001b[0;32mdef\u001b[0m \u001b[0m__setattr__\u001b[0m\u001b[0;34m(\u001b[0m\u001b[0mself\u001b[0m\u001b[0;34m,\u001b[0m \u001b[0mname\u001b[0m\u001b[0;34m,\u001b[0m \u001b[0mvalue\u001b[0m\u001b[0;34m)\u001b[0m\u001b[0;34m:\u001b[0m\u001b[0;34m\u001b[0m\u001b[0;34m\u001b[0m\u001b[0m\n",
      "\u001b[0;31mAttributeError\u001b[0m: 'Series' object has no attribute 'setvalue'"
     ]
    }
   ],
   "source": [
    "int_clustered = pd.read_csv(\"g_union_nodes.csv\",usecols=['__mclCluster', 'name'])\n",
    "for i in int_clustered.index:\n",
    "    k = int_clustered.loc[i,\"__mclCluster\"] \n",
    "    clusters['Clus1'+str(k)].setvalue( int_clustered.loc[i,\"name\"])"
   ]
  },
  {
   "cell_type": "code",
   "execution_count": null,
   "metadata": {},
   "outputs": [],
   "source": [
    "G_intclustered = nx.read_graphml('g_unioncluster1.graphml')\n",
    "print(nx.info(G_intclustered))\n",
    "list(G_intclustered)"
   ]
  },
  {
   "cell_type": "code",
   "execution_count": 10,
   "metadata": {},
   "outputs": [
    {
     "name": "stdout",
     "output_type": "stream",
     "text": [
      "Name: \n",
      "Type: Graph\n",
      "Number of nodes: 74\n",
      "Number of edges: 175\n",
      "Average degree:   4.7297\n",
      "\n"
     ]
    }
   ],
   "source": [
    "seed_genes = pd.read_csv(\"seed_genes_interactome.tsv\", sep = '\\t')\n",
    "G_seed = nx.from_pandas_edgelist(seed_genes,'interactorA','interactorB')\n",
    "#nx.draw(G_seed, with_labels=True, width=0.2 , node_size=7, font_size=2, font_color='b')\n",
    "#plt.savefig(\"g_seed.pdf\")\n",
    "nx.write_graphml(G_seed,'g_seed.xml')\n",
    "print(nx.info(G_seed))\n",
    "print(G_seed)"
   ]
  },
  {
   "cell_type": "code",
   "execution_count": null,
   "metadata": {},
   "outputs": [],
   "source": [
    "union = pd.read_csv(\"union_interactome_extended2.tsv\", sep = '\\t')\n",
    "G_union = nx.from_pandas_edgelist(union,'interactorA','interactorB')\n",
    "#nx.draw(G_union, with_labels=True, width=0.2 , node_size=7, font_size=2, font_color='b')\n",
    "#plt.savefig(\"g_union.pdf\")\n",
    "print(nx.info(G_union))\n",
    "nx.write_graphml(G_union,'g_union.xml')\n",
    "list(nx.isolates(G_union))"
   ]
  },
  {
   "cell_type": "code",
   "execution_count": null,
   "metadata": {},
   "outputs": [],
   "source": [
    "G_unclustered = nx.read_graphml('gunion_clustered.graphml')\n",
    "print(nx.info(G_unclustered))\n"
   ]
  },
  {
   "cell_type": "code",
   "execution_count": null,
   "metadata": {},
   "outputs": [],
   "source": [
    "list(G_unclustered)"
   ]
  },
  {
   "cell_type": "code",
   "execution_count": null,
   "metadata": {},
   "outputs": [],
   "source": [
    "#nx.is_strongly_connected(G_unclustered)\n",
    "G_unclustered = nx.DiGraph.to_undirected(G_unclustered)\n",
    "G_fin_un = nx.Graph()\n",
    "#print( 'n.of connected components:' ,nx.number_weakly_connected_components(G_unclustered))\n",
    "#print('n.of connected components:', nx.number_strongly_connected_components(G_unclustered))\n",
    "print('n.of connected components:', nx.number_connected_components(G_unclustered))\n",
    "for g in nx.connected_component_subgraphs(G_unclustered):\n",
    "    if nx.number_of_nodes(g) > 10:\n",
    "        G_fin = nx.compose(G_fin,g)\n",
    "#print(nx.average_shortest_path_length(g))\n",
    "# print(nx.info(g))\n",
    "    \n",
    "#for g in nx.strongly_connected_components(G_unclustered):\n",
    "  \n"
   ]
  },
  {
   "cell_type": "code",
   "execution_count": null,
   "metadata": {},
   "outputs": [],
   "source": [
    "print(nx.info(G_fin))\n",
    "print('n.of connected components:', nx.number_connected_components(G_fin))\n",
    "    "
   ]
  },
  {
   "cell_type": "code",
   "execution_count": null,
   "metadata": {},
   "outputs": [],
   "source": [
    "G_fin_int = nx.Graph()\n",
    "G_intclustered = nx.DiGraph.to_undirected(G_intclustered)\n",
    "#print( 'n.of connected components:' ,nx.number_weakly_connected_components(G_unclustered))\n",
    "#print('n.of connected components:', nx.number_strongly_connected_components(G_unclustered))\n",
    "print('n.of connected components:', nx.number_connected_components(G_intclustered))\n",
    "for g in nx.connected_component_subgraphs(G_intclustered):\n",
    "    if nx.number_of_nodes(g) > 10:\n",
    "        G_fin_int = nx.compose(G_fin_int,g)"
   ]
  },
  {
   "cell_type": "code",
   "execution_count": null,
   "metadata": {},
   "outputs": [],
   "source": [
    "print(nx.info(G_fin_int))\n",
    "print('n.of connected components:', nx.number_connected_components(G_fin_int))\n",
    "list_int = nx.to_edgelist(G_fin_int)\n",
    "list_int\n",
    "list(G_fin_int)"
   ]
  },
  {
   "cell_type": "code",
   "execution_count": null,
   "metadata": {},
   "outputs": [],
   "source": [
    "nx.to_edgelist(G)"
   ]
  },
  {
   "cell_type": "code",
   "execution_count": null,
   "metadata": {},
   "outputs": [],
   "source": [
    "print('n.of connected components:', nx.number_connected_components(G_int))\n",
    "for g in nx.connected_component_subgraphs(G_int):\n",
    "    print(nx.average_shortest_path_length(g))\n",
    "    print(nx.info(g))\n",
    "    \n",
    "    \n",
    "nx.algorithms.cluster.average_clustering(G_int)\n",
    "#nx.algorithms.distance_measures.diameter(G_int)"
   ]
  },
  {
   "cell_type": "code",
   "execution_count": null,
   "metadata": {},
   "outputs": [],
   "source": [
    "print('n.of connected components:', nx.number_connected_components(G_seed))\n",
    "for g in nx.connected_component_subgraphs(G_seed):\n",
    "    print(nx.info(g))\n",
    "    print('avg_shrt-path : ', nx.average_shortest_path_length(g))\n",
    "    print('diameter :' ,nx.algorithms.distance_measures.diameter(g))\n",
    "nx.algorithms.cluster.average_clustering(G_seed)\n",
    "#nx.algorithms.distance_measures.diameter(G_seed)"
   ]
  },
  {
   "cell_type": "code",
   "execution_count": null,
   "metadata": {},
   "outputs": [],
   "source": []
  },
  {
   "cell_type": "code",
   "execution_count": null,
   "metadata": {},
   "outputs": [],
   "source": []
  }
 ],
 "metadata": {
  "kernelspec": {
   "display_name": "Python 3",
   "language": "python",
   "name": "python3"
  },
  "language_info": {
   "codemirror_mode": {
    "name": "ipython",
    "version": 3
   },
   "file_extension": ".py",
   "mimetype": "text/x-python",
   "name": "python",
   "nbconvert_exporter": "python",
   "pygments_lexer": "ipython3",
   "version": "3.7.5"
  }
 },
 "nbformat": 4,
 "nbformat_minor": 2
}
