{
 "cells": [
  {
   "cell_type": "code",
   "execution_count": 40,
   "metadata": {},
   "outputs": [],
   "source": [
    "import pandas as pd\n",
    "import numpy as np\n",
    "import csv \n",
    "import networkx as nx\n",
    "import matplotlib.pyplot as plt\n",
    "#import markov_clustering as mc\n",
    "import os\n",
    "import sys \n",
    "from scipy.stats import hypergeom"
   ]
  },
  {
   "cell_type": "code",
   "execution_count": 106,
   "metadata": {},
   "outputs": [
    {
     "name": "stdout",
     "output_type": "stream",
     "text": [
      "Name: \n",
      "Type: Graph\n",
      "Number of nodes: 2521\n",
      "Number of edges: 3261\n",
      "Average degree:   2.5871\n"
     ]
    }
   ],
   "source": [
    "intersect = pd.read_csv(\"intersection_interactome.tsv\", sep = '\\t')\n",
    "G_int = nx.from_pandas_edgelist(intersect,'interactorA','interactorB')\n",
    "#nx.draw(G_int, with_labels=True, width=0.2 , node_size=5, font_size=2, font_color='b')\n",
    "#plt.savefig(\"g_int.pdf\")\n",
    "print(nx.info(G_int))\n",
    "#nx.write_gml(G_int,'g_int.gml')"
   ]
  },
  {
   "cell_type": "code",
   "execution_count": 186,
   "metadata": {},
   "outputs": [],
   "source": [
    "#seed_genes    \n",
    "seed_genes_nodes = pd.read_csv(\"g_seednode.csv\",usecols=['name'])"
   ]
  },
  {
   "cell_type": "code",
   "execution_count": 164,
   "metadata": {},
   "outputs": [],
   "source": [
    "clusters_i = pd.DataFrame(columns = ['Clus1','Clus2','Clus3','Clus4'])\n",
    "for z in range(1,4):\n",
    "    intersection_clusters = pd.read_csv(\"Icluster/Icluster\" + str(z)+\".csv\",usecols=['name'])    \n",
    "    count = 0\n",
    "    for i in seed_genes_nodes.index:\n",
    "        curr = seed_genes_nodes.loc[i,'name']\n",
    "        for j in intersection_clusters.index:\n",
    "            if curr == intersection_clusters.loc[j,'name']:\n",
    "                count +=1 \n",
    "        clusters_i.loc['nodes','Clus'+str(z)] = j       \n",
    "    clusters_i.loc['seed nodes','Clus'+str(z)] = count\n"
   ]
  },
  {
   "cell_type": "code",
   "execution_count": 152,
   "metadata": {},
   "outputs": [],
   "source": [
    "clusters_u = pd.DataFrame(columns = ['Clus1','Clus2','Clus3','Clus4','Clus5','Clus6','Clus7','Clus8','Clus9','Clus10','Clus11','Clus12','Clus13','Clus14','Clus15','Clus16','Clus17','Clus18','Clus19'])\n",
    "#clusters\n",
    "for z in range(1,19): \n",
    "    union_clusters = pd.read_csv(\"Ucluster/Ucluster\" + str(z)+\".csv\",usecols=['name'])    \n",
    "    count = 0\n",
    "    for i in seed_genes_nodes.index:\n",
    "        curr = seed_genes_nodes.loc[i,'name']\n",
    "        for j in union_clusters.index:\n",
    "            if curr == union_clusters.loc[j,'name']:\n",
    "                count +=1 \n",
    "        clusters_u.loc['nodes','Clus'+str(z)] = j\n",
    "    clusters_u.loc['seed nodes','Clus'+str(z)] = count\n",
    "    "
   ]
  },
  {
   "cell_type": "code",
   "execution_count": 165,
   "metadata": {},
   "outputs": [],
   "source": [
    "clusters_i.loc['nodes', 'Clus4']=13\n",
    "clusters_i.loc['seed nodes', 'Clus4']=1\n"
   ]
  },
  {
   "cell_type": "code",
   "execution_count": null,
   "metadata": {},
   "outputs": [],
   "source": [
    "clusters_u"
   ]
  },
  {
   "cell_type": "code",
   "execution_count": 175,
   "metadata": {},
   "outputs": [],
   "source": [
    "for i in range(1,5):\n",
    "    [M, n, N, x] = [2521, 78, clusters_i.loc['nodes','Clus'+str(i)],clusters_i.loc['seed nodes','Clus'+str(i)]]\n",
    "    pval = hypergeom.sf(x,M, n, N)\n",
    "    clusters_i.loc['pvalue','Clus'+str(i)] = pval"
   ]
  },
  {
   "cell_type": "code",
   "execution_count": 176,
   "metadata": {},
   "outputs": [
    {
     "data": {
      "text/html": [
       "<div>\n",
       "<style scoped>\n",
       "    .dataframe tbody tr th:only-of-type {\n",
       "        vertical-align: middle;\n",
       "    }\n",
       "\n",
       "    .dataframe tbody tr th {\n",
       "        vertical-align: top;\n",
       "    }\n",
       "\n",
       "    .dataframe thead th {\n",
       "        text-align: right;\n",
       "    }\n",
       "</style>\n",
       "<table border=\"1\" class=\"dataframe\">\n",
       "  <thead>\n",
       "    <tr style=\"text-align: right;\">\n",
       "      <th></th>\n",
       "      <th>Clus1</th>\n",
       "      <th>Clus2</th>\n",
       "      <th>Clus3</th>\n",
       "      <th>Clus4</th>\n",
       "    </tr>\n",
       "  </thead>\n",
       "  <tbody>\n",
       "    <tr>\n",
       "      <th>nodes</th>\n",
       "      <td>2271.0</td>\n",
       "      <td>24.00000</td>\n",
       "      <td>16.000000</td>\n",
       "      <td>13.000000</td>\n",
       "    </tr>\n",
       "    <tr>\n",
       "      <th>seed nodes</th>\n",
       "      <td>46.0</td>\n",
       "      <td>1.00000</td>\n",
       "      <td>1.000000</td>\n",
       "      <td>1.000000</td>\n",
       "    </tr>\n",
       "    <tr>\n",
       "      <th>pvalue</th>\n",
       "      <td>1.0</td>\n",
       "      <td>0.16875</td>\n",
       "      <td>0.085731</td>\n",
       "      <td>0.059125</td>\n",
       "    </tr>\n",
       "  </tbody>\n",
       "</table>\n",
       "</div>"
      ],
      "text/plain": [
       "             Clus1     Clus2      Clus3      Clus4\n",
       "nodes       2271.0  24.00000  16.000000  13.000000\n",
       "seed nodes    46.0   1.00000   1.000000   1.000000\n",
       "pvalue         1.0   0.16875   0.085731   0.059125"
      ]
     },
     "execution_count": 176,
     "metadata": {},
     "output_type": "execute_result"
    }
   ],
   "source": [
    "clusters_i"
   ]
  },
  {
   "cell_type": "code",
   "execution_count": 177,
   "metadata": {},
   "outputs": [
    {
     "name": "stderr",
     "output_type": "stream",
     "text": [
      "/home/ivan/anaconda3/lib/python3.7/site-packages/scipy/stats/_discrete_distns.py:347: RuntimeWarning: invalid value encountered in maximum\n",
      "  self.a = np.maximum(N-(M-n), 0)\n",
      "/home/ivan/anaconda3/lib/python3.7/site-packages/scipy/stats/_discrete_distns.py:348: RuntimeWarning: invalid value encountered in minimum\n",
      "  self.b = np.minimum(n, N)\n"
     ]
    }
   ],
   "source": [
    "for i in range(1,20):\n",
    "    [M, n, N, x] = [5612, 78, clusters_u.loc['nodes','Clus'+str(i)],clusters_u.loc['seed nodes','Clus'+str(i)]]\n",
    "    pval = hypergeom.sf(x,M, n, N)\n",
    "    clusters_u.loc['pvalue','Clus'+str(i)] = pval\n"
   ]
  },
  {
   "cell_type": "code",
   "execution_count": 178,
   "metadata": {},
   "outputs": [
    {
     "data": {
      "text/html": [
       "<div>\n",
       "<style scoped>\n",
       "    .dataframe tbody tr th:only-of-type {\n",
       "        vertical-align: middle;\n",
       "    }\n",
       "\n",
       "    .dataframe tbody tr th {\n",
       "        vertical-align: top;\n",
       "    }\n",
       "\n",
       "    .dataframe thead th {\n",
       "        text-align: right;\n",
       "    }\n",
       "</style>\n",
       "<table border=\"1\" class=\"dataframe\">\n",
       "  <thead>\n",
       "    <tr style=\"text-align: right;\">\n",
       "      <th></th>\n",
       "      <th>Clus1</th>\n",
       "      <th>Clus2</th>\n",
       "      <th>Clus3</th>\n",
       "      <th>Clus4</th>\n",
       "      <th>Clus5</th>\n",
       "      <th>Clus6</th>\n",
       "      <th>Clus7</th>\n",
       "      <th>Clus8</th>\n",
       "      <th>Clus9</th>\n",
       "      <th>Clus10</th>\n",
       "      <th>Clus11</th>\n",
       "      <th>Clus12</th>\n",
       "      <th>Clus13</th>\n",
       "      <th>Clus14</th>\n",
       "      <th>Clus15</th>\n",
       "      <th>Clus16</th>\n",
       "      <th>Clus17</th>\n",
       "      <th>Clus18</th>\n",
       "      <th>Clus19</th>\n",
       "    </tr>\n",
       "  </thead>\n",
       "  <tbody>\n",
       "    <tr>\n",
       "      <th>nodes</th>\n",
       "      <td>4390</td>\n",
       "      <td>70</td>\n",
       "      <td>65</td>\n",
       "      <td>63</td>\n",
       "      <td>58</td>\n",
       "      <td>57</td>\n",
       "      <td>56</td>\n",
       "      <td>27</td>\n",
       "      <td>27</td>\n",
       "      <td>27</td>\n",
       "      <td>26</td>\n",
       "      <td>20</td>\n",
       "      <td>17</td>\n",
       "      <td>15</td>\n",
       "      <td>15</td>\n",
       "      <td>14</td>\n",
       "      <td>14</td>\n",
       "      <td>13</td>\n",
       "      <td>NaN</td>\n",
       "    </tr>\n",
       "    <tr>\n",
       "      <th>seed nodes</th>\n",
       "      <td>16</td>\n",
       "      <td>2</td>\n",
       "      <td>1</td>\n",
       "      <td>1</td>\n",
       "      <td>0</td>\n",
       "      <td>2</td>\n",
       "      <td>1</td>\n",
       "      <td>2</td>\n",
       "      <td>1</td>\n",
       "      <td>1</td>\n",
       "      <td>1</td>\n",
       "      <td>1</td>\n",
       "      <td>0</td>\n",
       "      <td>1</td>\n",
       "      <td>1</td>\n",
       "      <td>1</td>\n",
       "      <td>1</td>\n",
       "      <td>0</td>\n",
       "      <td>NaN</td>\n",
       "    </tr>\n",
       "    <tr>\n",
       "      <th>pvalue</th>\n",
       "      <td>1</td>\n",
       "      <td>0.07293</td>\n",
       "      <td>0.228273</td>\n",
       "      <td>0.217994</td>\n",
       "      <td>0.557787</td>\n",
       "      <td>0.0442333</td>\n",
       "      <td>0.182448</td>\n",
       "      <td>0.0059431</td>\n",
       "      <td>0.0535119</td>\n",
       "      <td>0.0535119</td>\n",
       "      <td>0.0499883</td>\n",
       "      <td>0.0308231</td>\n",
       "      <td>0.212017</td>\n",
       "      <td>0.0178118</td>\n",
       "      <td>0.0178118</td>\n",
       "      <td>0.0155759</td>\n",
       "      <td>0.0155759</td>\n",
       "      <td>0.166522</td>\n",
       "      <td>NaN</td>\n",
       "    </tr>\n",
       "  </tbody>\n",
       "</table>\n",
       "</div>"
      ],
      "text/plain": [
       "           Clus1    Clus2     Clus3     Clus4     Clus5      Clus6     Clus7  \\\n",
       "nodes       4390       70        65        63        58         57        56   \n",
       "seed nodes    16        2         1         1         0          2         1   \n",
       "pvalue         1  0.07293  0.228273  0.217994  0.557787  0.0442333  0.182448   \n",
       "\n",
       "                Clus8      Clus9     Clus10     Clus11     Clus12    Clus13  \\\n",
       "nodes              27         27         27         26         20        17   \n",
       "seed nodes          2          1          1          1          1         0   \n",
       "pvalue      0.0059431  0.0535119  0.0535119  0.0499883  0.0308231  0.212017   \n",
       "\n",
       "               Clus14     Clus15     Clus16     Clus17    Clus18 Clus19  \n",
       "nodes              15         15         14         14        13    NaN  \n",
       "seed nodes          1          1          1          1         0    NaN  \n",
       "pvalue      0.0178118  0.0178118  0.0155759  0.0155759  0.166522    NaN  "
      ]
     },
     "execution_count": 178,
     "metadata": {},
     "output_type": "execute_result"
    }
   ],
   "source": [
    "clusters_u"
   ]
  },
  {
   "cell_type": "code",
   "execution_count": 181,
   "metadata": {},
   "outputs": [
    {
     "name": "stdout",
     "output_type": "stream",
     "text": [
      "SETD2\n",
      "WWC1\n"
     ]
    }
   ],
   "source": [
    "union_clusters = pd.read_csv(\"Ucluster/Ucluster6.csv\",usecols=['name'])    \n",
    "    #count = 0\n",
    "for i in seed_genes_nodes.index:\n",
    "    curr = seed_genes_nodes.loc[i,'name']\n",
    "    for j in union_clusters.index:\n",
    "        if curr == union_clusters.loc[j,'name']:\n",
    "            print (curr)"
   ]
  },
  {
   "cell_type": "code",
   "execution_count": null,
   "metadata": {},
   "outputs": [],
   "source": [
    "G_intclustered = nx.read_graphml('g_unioncluster1.graphml')\n",
    "print(nx.info(G_intclustered))\n",
    "list(G_intclustered)"
   ]
  },
  {
   "cell_type": "code",
   "execution_count": 95,
   "metadata": {},
   "outputs": [
    {
     "name": "stderr",
     "output_type": "stream",
     "text": [
      "/home/ivan/anaconda3/lib/python3.7/site-packages/networkx/drawing/nx_pylab.py:611: MatplotlibDeprecationWarning: isinstance(..., numbers.Number)\n",
      "  if cb.is_numlike(alpha):\n"
     ]
    },
    {
     "name": "stdout",
     "output_type": "stream",
     "text": [
      "Name: \n",
      "Type: Graph\n",
      "Number of nodes: 74\n",
      "Number of edges: 175\n",
      "Average degree:   4.7297\n",
      "\n"
     ]
    },
    {
     "data": {
      "image/png": "[encoded data removed]",
      "text/plain": [
       "<Figure size 432x288 with 1 Axes>"
      ]
     },
     "metadata": {},
     "output_type": "display_data"
    }
   ],
   "source": [
    "seed_genes = pd.read_csv(\"seed_genes_interactome.tsv\", sep = '\\t')\n",
    "G_seed = nx.from_pandas_edgelist(seed_genes,'interactorA','interactorB')\n",
    "nx.draw(G_seed, with_labels=True, width=0.2 , node_size=7, font_size=2, font_color='b')\n",
    "plt.savefig(\"g_seed.pdf\")\n",
    "#nx.write_graphml(G_seed,'g_seed.xml')\n",
    "print(nx.info(G_seed))\n",
    "print(G_seed)"
   ]
  },
  {
   "cell_type": "code",
   "execution_count": 108,
   "metadata": {},
   "outputs": [
    {
     "name": "stdout",
     "output_type": "stream",
     "text": [
      "Name: \n",
      "Type: Graph\n",
      "Number of nodes: 5612\n",
      "Number of edges: 204691\n",
      "Average degree:  72.9476\n"
     ]
    }
   ],
   "source": [
    "union = pd.read_csv(\"union_interactome_extended2.tsv\", sep = '\\t')\n",
    "G_union = nx.from_pandas_edgelist(union,'interactorA','interactorB')\n",
    "#nx.draw(G_union, with_labels=True, width=0.2 , node_size=7, font_size=2, font_color='b')\n",
    "#plt.savefig(\"g_union.pdf\")\n",
    "print(nx.info(G_union))\n",
    "#nx.write_graphml(G_union,'g_union.xml')\n",
    "#list(nx.isolates(G_union))"
   ]
  },
  {
   "cell_type": "code",
   "execution_count": null,
   "metadata": {},
   "outputs": [],
   "source": [
    "G_unclustered = nx.read_graphml('gunion_clustered.graphml')\n",
    "print(nx.info(G_unclustered))\n"
   ]
  },
  {
   "cell_type": "code",
   "execution_count": null,
   "metadata": {},
   "outputs": [],
   "source": [
    "list(G_unclustered)"
   ]
  },
  {
   "cell_type": "code",
   "execution_count": null,
   "metadata": {},
   "outputs": [],
   "source": [
    "#nx.is_strongly_connected(G_unclustered)\n",
    "G_unclustered = nx.DiGraph.to_undirected(G_unclustered)\n",
    "G_fin_un = nx.Graph()\n",
    "#print( 'n.of connected components:' ,nx.number_weakly_connected_components(G_unclustered))\n",
    "#print('n.of connected components:', nx.number_strongly_connected_components(G_unclustered))\n",
    "print('n.of connected components:', nx.number_connected_components(G_unclustered))\n",
    "for g in nx.connected_component_subgraphs(G_unclustered):\n",
    "    if nx.number_of_nodes(g) > 10:\n",
    "        G_fin = nx.compose(G_fin,g)\n",
    "#print(nx.average_shortest_path_length(g))\n",
    "# print(nx.info(g))\n",
    "    \n",
    "#for g in nx.strongly_connected_components(G_unclustered):\n",
    "  \n"
   ]
  },
  {
   "cell_type": "code",
   "execution_count": null,
   "metadata": {},
   "outputs": [],
   "source": [
    "print(nx.info(G_fin))\n",
    "print('n.of connected components:', nx.number_connected_components(G_fin))\n",
    "    "
   ]
  },
  {
   "cell_type": "code",
   "execution_count": null,
   "metadata": {},
   "outputs": [],
   "source": [
    "G_fin_int = nx.Graph()\n",
    "G_intclustered = nx.DiGraph.to_undirected(G_intclustered)\n",
    "#print( 'n.of connected components:' ,nx.number_weakly_connected_components(G_unclustered))\n",
    "#print('n.of connected components:', nx.number_strongly_connected_components(G_unclustered))\n",
    "print('n.of connected components:', nx.number_connected_components(G_intclustered))\n",
    "for g in nx.connected_component_subgraphs(G_intclustered):\n",
    "    if nx.number_of_nodes(g) > 10:\n",
    "        G_fin_int = nx.compose(G_fin_int,g)"
   ]
  },
  {
   "cell_type": "code",
   "execution_count": null,
   "metadata": {},
   "outputs": [],
   "source": [
    "print(nx.info(G_fin_int))\n",
    "print('n.of connected components:', nx.number_connected_components(G_fin_int))\n",
    "list_int = nx.to_edgelist(G_fin_int)\n",
    "list_int\n",
    "list(G_fin_int)"
   ]
  },
  {
   "cell_type": "code",
   "execution_count": null,
   "metadata": {},
   "outputs": [],
   "source": [
    "nx.to_edgelist(G)"
   ]
  },
  {
   "cell_type": "code",
   "execution_count": null,
   "metadata": {},
   "outputs": [],
   "source": [
    "print('n.of connected components:', nx.number_connected_components(G_int))\n",
    "for g in nx.connected_component_subgraphs(G_int):\n",
    "    print(nx.average_shortest_path_length(g))\n",
    "    print(nx.info(g))\n",
    "    \n",
    "    \n",
    "nx.algorithms.cluster.average_clustering(G_int)\n",
    "#nx.algorithms.distance_measures.diameter(G_int)"
   ]
  },
  {
   "cell_type": "code",
   "execution_count": null,
   "metadata": {},
   "outputs": [],
   "source": [
    "print('n.of connected components:', nx.number_connected_components(G_seed))\n",
    "for g in nx.connected_component_subgraphs(G_seed):\n",
    "    print(nx.info(g))\n",
    "    print('avg_shrt-path : ', nx.average_shortest_path_length(g))\n",
    "    print('diameter :' ,nx.algorithms.distance_measures.diameter(g))\n",
    "nx.algorithms.cluster.average_clustering(G_seed)\n",
    "#nx.algorithms.distance_measures.diameter(G_seed)"
   ]
  },
  {
   "cell_type": "code",
   "execution_count": 189,
   "metadata": {},
   "outputs": [],
   "source": [
    "f = open(\"seed_file.txt\",\"a\")\n",
    "for i in seed_genes_nodes.index:\n",
    "    f.write(seed_genes_nodes.loc[i,'name']+'\\n')\n",
    "f.close()\n",
    "    "
   ]
  },
  {
   "cell_type": "code",
   "execution_count": 208,
   "metadata": {},
   "outputs": [],
   "source": [
    "network_file = pd.read_csv(\"new_biogrid.tsv\", sep = '\\t', usecols=['Official Symbol Interactor A','Official Symbol Interactor B'])\n",
    "#net_biogrid = pd.read_csv(\"union_interactome_extended2.tsv\", error_bad_lines=False) #,'Official Symbol Interactor B'])"
   ]
  },
  {
   "cell_type": "code",
   "execution_count": 209,
   "metadata": {},
   "outputs": [],
   "source": [
    "g = open(\"network_file.txt\",\"a\" )\n",
    "for i in network_file.index:\n",
    "    g.write(network_file.loc[i,'Official Symbol Interactor A']+','+network_file.loc[i,'Official Symbol Interactor B']+'\\n')"
   ]
  },
  {
   "cell_type": "code",
   "execution_count": null,
   "metadata": {},
   "outputs": [],
   "source": []
  }
 ],
 "metadata": {
  "kernelspec": {
   "display_name": "Python 3",
   "language": "python",
   "name": "python3"
  },
  "language_info": {
   "codemirror_mode": {
    "name": "ipython",
    "version": 3
   },
   "file_extension": ".py",
   "mimetype": "text/x-python",
   "name": "python",
   "nbconvert_exporter": "python",
   "pygments_lexer": "ipython3",
   "version": "3.7.5"
  }
 },
 "nbformat": 4,
 "nbformat_minor": 2
}
